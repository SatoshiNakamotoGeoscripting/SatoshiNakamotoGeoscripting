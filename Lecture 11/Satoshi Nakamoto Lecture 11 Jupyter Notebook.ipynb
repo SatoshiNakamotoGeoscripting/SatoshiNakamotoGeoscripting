{
 "cells": [
  {
   "cell_type": "markdown",
   "metadata": {},
   "source": [
    "Team: Satoshi Nakamoto <br>\n",
    "Names: Alex Levering & Hèctor Muro <br>\n",
    "Lesson 10 Exercise solution"
   ]
  },
  {
   "cell_type": "markdown",
   "metadata": {},
   "source": [
    "Import standard libraries"
   ]
  },
  {
   "cell_type": "code",
   "execution_count": 1,
   "metadata": {
    "collapsed": true
   },
   "outputs": [],
   "source": [
    "from numpy import mean\n",
    "import os\n",
    "from os import makedirs,chdir\n",
    "from os.path import exists"
   ]
  },
  {
   "cell_type": "markdown",
   "metadata": {},
   "source": [
    "Import non-standard libraries (install as needed)"
   ]
  },
  {
   "cell_type": "code",
   "execution_count": 3,
   "metadata": {
    "collapsed": false
   },
   "outputs": [],
   "source": [
    "from osgeo import ogr,osr\n",
    "import folium\n",
    "import simplekml"
   ]
  },
  {
   "cell_type": "markdown",
   "metadata": {},
   "source": [
    "Optional directory creation"
   ]
  },
  {
   "cell_type": "code",
   "execution_count": 4,
   "metadata": {
    "collapsed": true
   },
   "outputs": [],
   "source": [
    "if not exists('./data'):\n",
    "    makedirs('./data')\n",
    "\n",
    "#chdir(\"./data\")"
   ]
  },
  {
   "cell_type": "markdown",
   "metadata": {},
   "source": [
    "Is the ESRI Shapefile driver available?"
   ]
  },
  {
   "cell_type": "code",
   "execution_count": 5,
   "metadata": {
    "collapsed": false
   },
   "outputs": [
    {
     "name": "stdout",
     "output_type": "stream",
     "text": [
      "ESRI Shapefile driver IS available.\n",
      "\n"
     ]
    }
   ],
   "source": [
    "driverName = \"ESRI Shapefile\"\n",
    "drv = ogr.GetDriverByName( driverName )\n",
    "if drv is None:\n",
    "    print \"%s driver not available.\\n\" % driverName\n",
    "else:\n",
    "    print  \"%s driver IS available.\\n\" % driverName"
   ]
  },
  {
   "cell_type": "markdown",
   "metadata": {},
   "source": [
    "Define a function which will create a shapefile from the points input and export it as kml if the option is set to True."
   ]
  },
  {
   "cell_type": "code",
   "execution_count": 7,
   "metadata": {
    "collapsed": true
   },
   "outputs": [],
   "source": [
    "def shpFromPoints(filename, layername, points, save_kml = True):\n",
    "    spatialReference = osr.SpatialReference()\n",
    "    spatialReference.ImportFromProj4('+proj=longlat +ellps=WGS84 +datum=WGS84 +no_defs')\n",
    "    ds = drv.CreateDataSource(filename)\n",
    "    layer=ds.CreateLayer(layername, spatialReference, ogr.wkbPoint)\n",
    "    layerDefinition = layer.GetLayerDefn()\n",
    "    \n",
    "    point = ogr.Geometry(ogr.wkbPoint)\n",
    "    feature = ogr.Feature(layerDefinition)\n",
    "    \n",
    "    kml = simplekml.Kml()\n",
    "    for i, value in enumerate(points):\n",
    "        point.SetPoint(0,value[0], value[1])\n",
    "        feature.SetGeometry(point)\n",
    "        layer.CreateFeature(feature)\n",
    "        kml.newpoint(name=str(i), coords = [(value[0],value[1])])\n",
    "    ds.Destroy()        \n",
    "    if save_kml == True:\n",
    "        kml.save(\"my_points.kml\")"
   ]
  },
  {
   "cell_type": "markdown",
   "metadata": {},
   "source": [
    "Define the file and layer name as well as the points to be mapped. "
   ]
  },
  {
   "cell_type": "code",
   "execution_count": 8,
   "metadata": {
    "collapsed": true
   },
   "outputs": [],
   "source": [
    "filename = \"wageningenpoints.shp\"\n",
    "layername = \"wagpoints\"\n",
    "pts = [(51.987398, 5.665777),\n",
    "        (51.978434, 5.663133)]\n",
    "shpFromPoints(filename, layername, pts)"
   ]
  },
  {
   "cell_type": "markdown",
   "metadata": {},
   "source": [
    "Define a function to create a nice map with the points using folium library."
   ]
  },
  {
   "cell_type": "code",
   "execution_count": 9,
   "metadata": {
    "collapsed": true
   },
   "outputs": [],
   "source": [
    "def mapFromPoints(pts, outname, zoom_level, save = True):\n",
    "    mean_long = mean([pt[0] for pt in pts])\n",
    "    mean_lat = mean([pt[1] for pt in pts])\n",
    "    point_map = folium.Map(location=[mean_long, mean_lat], zoom_start = zoom_level)\n",
    "    for pt in pts:\n",
    "        folium.Marker([pt[0], pt[1]],\\\n",
    "        popup = folium.Popup(folium.element.IFrame(\n",
    "        html='''\n",
    "                <b>Latitude:</b>  {lat}<br>\n",
    "                <b>Longitude:</b> {lon}<br>\n",
    "             '''.format(lat = pt[0], lon = pt[1]),\\\n",
    "        width=150, height=100),\\\n",
    "        max_width=150)).add_to(point_map)\n",
    "    if save == True:\n",
    "        point_map.save(\"{}.html\".format(outname))\n",
    "    return point_map"
   ]
  },
  {
   "cell_type": "markdown",
   "metadata": {},
   "source": [
    "Call the function specifying the list of points, the output map name and its zoom level. If not False, the map is saved as an html"
   ]
  },
  {
   "cell_type": "code",
   "execution_count": 10,
   "metadata": {
    "collapsed": false
   },
   "outputs": [
    {
     "ename": "AttributeError",
     "evalue": "'module' object has no attribute 'Marker'",
     "output_type": "error",
     "traceback": [
      "\u001b[1;31m---------------------------------------------------------------------------\u001b[0m",
      "\u001b[1;31mAttributeError\u001b[0m                            Traceback (most recent call last)",
      "\u001b[1;32m<ipython-input-10-f5c9b82dd1ed>\u001b[0m in \u001b[0;36m<module>\u001b[1;34m()\u001b[0m\n\u001b[1;32m----> 1\u001b[1;33m \u001b[0mmapFromPoints\u001b[0m\u001b[1;33m(\u001b[0m\u001b[0mpts\u001b[0m\u001b[1;33m,\u001b[0m \u001b[1;34m\"SatoshiNakamotoMap\"\u001b[0m\u001b[1;33m,\u001b[0m \u001b[0mzoom_level\u001b[0m \u001b[1;33m=\u001b[0m \u001b[1;36m6\u001b[0m\u001b[1;33m)\u001b[0m\u001b[1;33m\u001b[0m\u001b[0m\n\u001b[0m",
      "\u001b[1;32m<ipython-input-9-72a9562c9893>\u001b[0m in \u001b[0;36mmapFromPoints\u001b[1;34m(pts, outname, zoom_level, save)\u001b[0m\n\u001b[0;32m      4\u001b[0m     \u001b[0mpoint_map\u001b[0m \u001b[1;33m=\u001b[0m \u001b[0mfolium\u001b[0m\u001b[1;33m.\u001b[0m\u001b[0mMap\u001b[0m\u001b[1;33m(\u001b[0m\u001b[0mlocation\u001b[0m\u001b[1;33m=\u001b[0m\u001b[1;33m[\u001b[0m\u001b[0mmean_long\u001b[0m\u001b[1;33m,\u001b[0m \u001b[0mmean_lat\u001b[0m\u001b[1;33m]\u001b[0m\u001b[1;33m,\u001b[0m \u001b[0mzoom_start\u001b[0m \u001b[1;33m=\u001b[0m \u001b[0mzoom_level\u001b[0m\u001b[1;33m)\u001b[0m\u001b[1;33m\u001b[0m\u001b[0m\n\u001b[0;32m      5\u001b[0m     \u001b[1;32mfor\u001b[0m \u001b[0mpt\u001b[0m \u001b[1;32min\u001b[0m \u001b[0mpts\u001b[0m\u001b[1;33m:\u001b[0m\u001b[1;33m\u001b[0m\u001b[0m\n\u001b[1;32m----> 6\u001b[1;33m         folium.Marker([pt[0], pt[1]],        popup = folium.Popup(folium.element.IFrame(\n\u001b[0m\u001b[0;32m      7\u001b[0m         html='''\n\u001b[0;32m      8\u001b[0m                 \u001b[1;33m<\u001b[0m\u001b[0mb\u001b[0m\u001b[1;33m>\u001b[0m\u001b[0mLatitude\u001b[0m\u001b[1;33m:\u001b[0m\u001b[1;33m<\u001b[0m\u001b[1;33m/\u001b[0m\u001b[0mb\u001b[0m\u001b[1;33m>\u001b[0m  \u001b[1;33m{\u001b[0m\u001b[0mlat\u001b[0m\u001b[1;33m}\u001b[0m\u001b[1;33m<\u001b[0m\u001b[0mbr\u001b[0m\u001b[1;33m>\u001b[0m\u001b[1;33m\u001b[0m\u001b[0m\n",
      "\u001b[1;31mAttributeError\u001b[0m: 'module' object has no attribute 'Marker'"
     ]
    }
   ],
   "source": [
    "mapFromPoints(pts, \"SatoshiNakamotoMap\", zoom_level = 6)"
   ]
  }
 ],
 "metadata": {
  "kernelspec": {
   "display_name": "Python 2",
   "language": "python",
   "name": "python2"
  },
  "language_info": {
   "codemirror_mode": {
    "name": "ipython",
    "version": 2
   },
   "file_extension": ".py",
   "mimetype": "text/x-python",
   "name": "python",
   "nbconvert_exporter": "python",
   "pygments_lexer": "ipython2",
   "version": "2.7.12"
  },
  "widgets": {
   "state": {},
   "version": "1.1.2"
  }
 },
 "nbformat": 4,
 "nbformat_minor": 0
}
