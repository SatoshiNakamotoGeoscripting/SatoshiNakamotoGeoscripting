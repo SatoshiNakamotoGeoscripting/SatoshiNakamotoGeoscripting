{
 "cells": [
  {
   "cell_type": "markdown",
   "metadata": {},
   "source": [
    "Team: Satoshi Nakamoto <br>\n",
    "Names: Alex Levering & Hèctor Muro <br>\n",
    "Lesson 12 Exercise solution"
   ]
  },
  {
   "cell_type": "markdown",
   "metadata": {},
   "source": [
    "Import standard libraries"
   ]
  },
  {
   "cell_type": "code",
   "execution_count": 1,
   "metadata": {
    "collapsed": true
   },
   "outputs": [],
   "source": [
    "import numpy as np\n",
    "import os\n",
    "from os import makedirs, chdir\n",
    "from os.path import exists\n",
    "import tarfile\n",
    "import fnmatch\n",
    "import urllib"
   ]
  },
  {
   "cell_type": "markdown",
   "metadata": {},
   "source": [
    "Import non-standard libaries"
   ]
  },
  {
   "cell_type": "code",
   "execution_count": 4,
   "metadata": {
    "collapsed": true
   },
   "outputs": [],
   "source": [
    "from osgeo import gdal\n",
    "from osgeo.gdalconst import GA_ReadOnly, GDT_Float32\n",
    "os.chdir('/home/user/Lesson12')"
   ]
  },
  {
   "cell_type": "code",
   "execution_count": 5,
   "metadata": {
    "collapsed": true
   },
   "outputs": [],
   "source": [
    "if not exists('./data'):\n",
    "    makedirs('./data')"
   ]
  },
  {
   "cell_type": "markdown",
   "metadata": {},
   "source": [
    "Download the data"
   ]
  },
  {
   "cell_type": "code",
   "execution_count": 6,
   "metadata": {
    "collapsed": true
   },
   "outputs": [],
   "source": [
    "def dataDownload(url,filename):\n",
    "    urllib.urlretrieve(url,filename)"
   ]
  },
  {
   "cell_type": "code",
   "execution_count": 8,
   "metadata": {
    "collapsed": true
   },
   "outputs": [],
   "source": [
    "dataDownload('https://www.dropbox.com/s/zb7nrla6fqi1mq4/LC81980242014260-SC20150123044700.tar.gz?dl=1',\n",
    "             'landsat.tar.gz')"
   ]
  },
  {
   "cell_type": "markdown",
   "metadata": {},
   "source": [
    "Untar files"
   ]
  },
  {
   "cell_type": "code",
   "execution_count": 9,
   "metadata": {
    "collapsed": true
   },
   "outputs": [],
   "source": [
    "def untarDirectory(directory):\n",
    "    for file in os.listdir('.'):\n",
    "        if fnmatch.fnmatch(file,'*tar.gz'):\n",
    "            tar = tarfile.open(file)\n",
    "            tar.extractall(directory)\n",
    "            tar.close()"
   ]
  },
  {
   "cell_type": "code",
   "execution_count": 10,
   "metadata": {
    "collapsed": true
   },
   "outputs": [],
   "source": [
    "untarDirectory('./data')"
   ]
  },
  {
   "cell_type": "markdown",
   "metadata": {},
   "source": [
    "Select bands"
   ]
  },
  {
   "cell_type": "code",
   "execution_count": 11,
   "metadata": {
    "collapsed": true
   },
   "outputs": [],
   "source": [
    "def bandSelection(band):\n",
    "    for image in os.listdir('./data'):\n",
    "        if fnmatch.fnmatch(image,'*'+band+'.tif'):\n",
    "            gdalBand = gdal.Open('./data/'+image, GA_ReadOnly)\n",
    "    return gdalBand"
   ]
  },
  {
   "cell_type": "code",
   "execution_count": 12,
   "metadata": {
    "collapsed": true
   },
   "outputs": [],
   "source": [
    "band4 = bandSelection('4')\n",
    "band5 = bandSelection('5')"
   ]
  },
  {
   "cell_type": "markdown",
   "metadata": {},
   "source": [
    "NDWI"
   ]
  },
  {
   "cell_type": "code",
   "execution_count": 13,
   "metadata": {
    "collapsed": true
   },
   "outputs": [],
   "source": [
    "def ndwi(band_A,band_B):\n",
    "    # Read data into an array + set data type\n",
    "    band_AArr = band_A.ReadAsArray(0,0,band_A.RasterXSize, band_A.RasterYSize).astype(np.float32)\n",
    "    band_BArr = band_B.ReadAsArray(0,0,band_B.RasterXSize, band_B.RasterYSize).astype(np.float32)\n",
    "    \n",
    "    # Derive the NDVI\n",
    "    mask = np.greater(band_AArr+band_BArr,0)\n",
    "    \n",
    "    # set np.errstate to avoid warning of invalid values (i.e. NaN values) in the divide \n",
    "    with np.errstate(invalid='ignore'):\n",
    "        ndwi = np.choose(mask,(-99,(band_AArr-band_BArr)/(band_AArr+band_BArr)))\n",
    "         \n",
    "    # Write the result to disk\n",
    "    driver = gdal.GetDriverByName('GTiff')\n",
    "    outDataSet=driver.Create('./data/ndwi.tif', band_A.RasterXSize, band_A.RasterYSize, 1, GDT_Float32)\n",
    "    outBand = outDataSet.GetRasterBand(1)\n",
    "    outBand.WriteArray(ndwi,0,0)\n",
    "    outBand.SetNoDataValue(-99)\n",
    "    \n",
    "    # set the projection and extent information of the dataset\n",
    "    outDataSet.SetProjection(band_A.GetProjection())\n",
    "    outDataSet.SetGeoTransform(band_A.GetGeoTransform())\n",
    "    \n",
    "    # Finally let's save it... or like in the OGR example flush it\n",
    "    outBand.FlushCache()\n",
    "    outDataSet.FlushCache()"
   ]
  },
  {
   "cell_type": "code",
   "execution_count": 14,
   "metadata": {
    "collapsed": false
   },
   "outputs": [
    {
     "name": "stdout",
     "output_type": "stream",
     "text": [
      "<type 'numpy.ndarray'>\n",
      "NDWI min and max values -99.0 21.3333\n",
      "-2.36481\n"
     ]
    },
    {
     "name": "stderr",
     "output_type": "stream",
     "text": [
      "/usr/lib/python2.7/dist-packages/ipykernel/__main__.py:12: RuntimeWarning: divide by zero encountered in divide\n"
     ]
    }
   ],
   "source": [
    "ndwi(band4,band5)"
   ]
  },
  {
   "cell_type": "markdown",
   "metadata": {},
   "source": [
    "Reproject"
   ]
  },
  {
   "cell_type": "code",
   "execution_count": 15,
   "metadata": {
    "collapsed": false
   },
   "outputs": [
    {
     "data": {
      "text/plain": [
       "0"
      ]
     },
     "execution_count": 15,
     "metadata": {},
     "output_type": "execute_result"
    }
   ],
   "source": [
    "#Using bash command\n",
    "bash = 'gdalwarp -t_srs \"EPSG:4326\" ./data/ndwi.tif ./data/ndwi_ll.tif'\n",
    "os.system(bash)"
   ]
  },
  {
   "cell_type": "code",
   "execution_count": null,
   "metadata": {
    "collapsed": true
   },
   "outputs": [],
   "source": []
  }
 ],
 "metadata": {
  "kernelspec": {
   "display_name": "Python 2",
   "language": "python",
   "name": "python2"
  },
  "language_info": {
   "codemirror_mode": {
    "name": "ipython",
    "version": 2
   },
   "file_extension": ".py",
   "mimetype": "text/x-python",
   "name": "python",
   "nbconvert_exporter": "python",
   "pygments_lexer": "ipython2",
   "version": "2.7.12"
  },
  "widgets": {
   "state": {},
   "version": "1.1.2"
  }
 },
 "nbformat": 4,
 "nbformat_minor": 0
}
